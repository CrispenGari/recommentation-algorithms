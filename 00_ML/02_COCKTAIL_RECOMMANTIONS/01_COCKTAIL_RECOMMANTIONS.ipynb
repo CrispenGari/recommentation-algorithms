{
 "cells": [
  {
   "cell_type": "markdown",
   "id": "6573571d-d3a3-4905-9242-a266ab598c47",
   "metadata": {},
   "source": [
    "### COCKTAIL_RECOMMANTIONS\n",
    "\n",
    "In this notebook we are going to implement the recommentation algorithm that calculate the cosine simmilarity of a cocktail based on the ingredients that cocktail has.\n",
    "\n",
    "\n",
    "First thing first we are going to import all the packages that we are going to use in this notebook."
   ]
  },
  {
   "cell_type": "code",
   "execution_count": 1,
   "id": "104fbfde-c5e2-4b8f-b045-fa02728b9bb2",
   "metadata": {},
   "outputs": [],
   "source": [
    "import pandas as pd\n",
    "import numpy as np\n",
    "import random\n",
    "import time\n",
    "import os\n",
    "import json\n",
    "import matplotlib.pyplot as plt\n",
    "from sklearn.feature_extraction.text import TfidfVectorizer\n",
    "from sklearn.metrics.pairwise import linear_kernel\n",
    "from sklearn.metrics.pairwise import cosine_similarity\n",
    "from sklearn.feature_extraction.text import CountVectorizer\n",
    "from ast import literal_eval"
   ]
  },
  {
   "cell_type": "markdown",
   "id": "23f6b649-de62-47f2-a3c6-2830622f8bbd",
   "metadata": {},
   "source": [
    "First we need to read the `cocktails.json` file and extracy the ingredients of each `cocktail` as a list and create a new dataframe that we are going to use for implementing the recommentation algorithm. "
   ]
  },
  {
   "cell_type": "code",
   "execution_count": 2,
   "id": "ed9356e0-c47b-4ecb-b58e-043ddcea5988",
   "metadata": {},
   "outputs": [],
   "source": [
    "with open('cocktails.json', 'r') as reader:\n",
    "    data = json.loads(reader.read())"
   ]
  },
  {
   "cell_type": "markdown",
   "id": "b420697d-20bb-4759-8d69-37c59452d03a",
   "metadata": {},
   "source": [
    "From the `json` data that we are having we are going to create a dataframe that matches a cocktail with it's ingridients."
   ]
  },
  {
   "cell_type": "code",
   "execution_count": 19,
   "id": "4fcad4e5-37d2-4f45-857a-ffaa01103e97",
   "metadata": {},
   "outputs": [
    {
     "data": {
      "text/html": [
       "<div>\n",
       "<style scoped>\n",
       "    .dataframe tbody tr th:only-of-type {\n",
       "        vertical-align: middle;\n",
       "    }\n",
       "\n",
       "    .dataframe tbody tr th {\n",
       "        vertical-align: top;\n",
       "    }\n",
       "\n",
       "    .dataframe thead th {\n",
       "        text-align: right;\n",
       "    }\n",
       "</style>\n",
       "<table border=\"1\" class=\"dataframe\">\n",
       "  <thead>\n",
       "    <tr style=\"text-align: right;\">\n",
       "      <th></th>\n",
       "      <th>cocktail</th>\n",
       "      <th>ingredients</th>\n",
       "    </tr>\n",
       "  </thead>\n",
       "  <tbody>\n",
       "    <tr>\n",
       "      <th>0</th>\n",
       "      <td>Vesper</td>\n",
       "      <td>gin vodka lillet blonde</td>\n",
       "    </tr>\n",
       "    <tr>\n",
       "      <th>1</th>\n",
       "      <td>Bacardi</td>\n",
       "      <td>white rum lime juice syrup</td>\n",
       "    </tr>\n",
       "    <tr>\n",
       "      <th>2</th>\n",
       "      <td>Negroni</td>\n",
       "      <td>gin campari vermouth</td>\n",
       "    </tr>\n",
       "    <tr>\n",
       "      <th>3</th>\n",
       "      <td>Rose</td>\n",
       "      <td>kirsch vermouth syrup</td>\n",
       "    </tr>\n",
       "    <tr>\n",
       "      <th>4</th>\n",
       "      <td>Old Fashioned</td>\n",
       "      <td>whiskey angostura bitters sugar few dashes pla...</td>\n",
       "    </tr>\n",
       "  </tbody>\n",
       "</table>\n",
       "</div>"
      ],
      "text/plain": [
       "        cocktail                                        ingredients\n",
       "0         Vesper                            gin vodka lillet blonde\n",
       "1        Bacardi                         white rum lime juice syrup\n",
       "2        Negroni                               gin campari vermouth\n",
       "3           Rose                              kirsch vermouth syrup\n",
       "4  Old Fashioned  whiskey angostura bitters sugar few dashes pla..."
      ]
     },
     "execution_count": 19,
     "metadata": {},
     "output_type": "execute_result"
    }
   ],
   "source": [
    "values = list()\n",
    "for cocktail in data:\n",
    "    name = cocktail.get('name')\n",
    "    ingridients = []\n",
    "    for ingredient in cocktail.get('glass_and_ingredients').get('ingredients'):\n",
    "        i = ingredient.get('ingredient')\n",
    "        ingridients.append(i)\n",
    "    ingridients = ' '.join(ingridients).lower()\n",
    "    values.append([name, ingridients])\n",
    "\n",
    "df = pd.DataFrame(values, columns=['cocktail', 'ingredients'])\n",
    "df.head()"
   ]
  },
  {
   "cell_type": "markdown",
   "id": "240f08b7-0faf-4f28-8f1b-7dfaf1772334",
   "metadata": {},
   "source": [
    "Next we are going to save that dataframe as a `.csv` file."
   ]
  },
  {
   "cell_type": "code",
   "execution_count": 21,
   "id": "5fffd97a-1feb-40ed-a939-07c2069c218e",
   "metadata": {},
   "outputs": [
    {
     "name": "stdout",
     "output_type": "stream",
     "text": [
      "Saved!!\n"
     ]
    }
   ],
   "source": [
    "df.to_csv('cocktails_ingredients.csv', index=False)\n",
    "print(\"Saved!!\")"
   ]
  },
  {
   "cell_type": "markdown",
   "id": "982b5b02-28a1-4231-b1ce-985f9b2e3df8",
   "metadata": {},
   "source": [
    "Next we are going to create a function that recomments a cocktail that has similar ingredients. This function is going to be called `get_recommendations_based_on_ingredients`. Which takes in the name of the `cocktail` and the filename where the `cocktails` and `ingredients`  are pairly."
   ]
  },
  {
   "cell_type": "code",
   "execution_count": 23,
   "id": "a523198e-85da-4bf4-bf60-94719b64b9de",
   "metadata": {},
   "outputs": [
    {
     "data": {
      "text/plain": [
       "['Screwdriver',\n",
       " 'Harvey Wallbanger',\n",
       " 'Sex on the Beach',\n",
       " 'Mimosa',\n",
       " 'Tequila Sunrise',\n",
       " 'Monkey Gland',\n",
       " 'Kamikaze',\n",
       " 'Sea Breeze',\n",
       " 'Casino',\n",
       " \"Planter's Punch\",\n",
       " 'Golden Dream']"
      ]
     },
     "execution_count": 23,
     "metadata": {},
     "output_type": "execute_result"
    }
   ],
   "source": [
    "def get_recommendations_based_on_ingredients(name: str, file_name, n:int = 11)-> list[str]:\n",
    "  dataframe = pd.read_csv(file_name)\n",
    "  tfidf = TfidfVectorizer(stop_words='english')\n",
    "  tfidf_matrix = tfidf.fit_transform(dataframe.ingredients)\n",
    "  cosine_sim = linear_kernel(tfidf_matrix, tfidf_matrix)\n",
    "  dataframe.drop_duplicates(subset=[\"cocktail\"], inplace=True)\n",
    "  indices = pd.Series(dataframe.index, index=dataframe['cocktail']).drop_duplicates()\n",
    "  idx = indices[name]\n",
    "  sim_scores = list(enumerate(cosine_sim[idx]))\n",
    "  sim_scores = sorted(sim_scores, key=lambda x: x[1], reverse=True)\n",
    "  sim_scores = sim_scores[:n]\n",
    "  recipe_indices = [i[0] for i in sim_scores]\n",
    "  return [i for i in dataframe['cocktail'].iloc[recipe_indices]]\n",
    "get_recommendations_based_on_ingredients(\"Screwdriver\", 'cocktails_ingredients.csv')"
   ]
  },
  {
   "cell_type": "code",
   "execution_count": null,
   "id": "d6efb62e-9e26-4c77-9cec-60f7e2d61bd6",
   "metadata": {},
   "outputs": [],
   "source": []
  }
 ],
 "metadata": {
  "kernelspec": {
   "display_name": "Python 3 (ipykernel)",
   "language": "python",
   "name": "python3"
  },
  "language_info": {
   "codemirror_mode": {
    "name": "ipython",
    "version": 3
   },
   "file_extension": ".py",
   "mimetype": "text/x-python",
   "name": "python",
   "nbconvert_exporter": "python",
   "pygments_lexer": "ipython3",
   "version": "3.11.7"
  }
 },
 "nbformat": 4,
 "nbformat_minor": 5
}
