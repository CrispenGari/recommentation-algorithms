{
  "nbformat": 4,
  "nbformat_minor": 0,
  "metadata": {
    "colab": {
      "provenance": [],
      "gpuType": "T4"
    },
    "kernelspec": {
      "name": "python3",
      "display_name": "Python 3"
    },
    "language_info": {
      "name": "python"
    },
    "accelerator": "GPU",
    "gpuClass": "standard"
  },
  "cells": [
    {
      "cell_type": "markdown",
      "source": [
        "### Recommendation System using Deep Learning\n",
        "\n",
        "In this notebook we are going to learn how to create a model that will do movie recommendations based on the `movie` ratings. We are going to use a strategy called **`Collaborative Filtering`** to detemine the rating the user can give to a movie.\n",
        "\n",
        "\n",
        "\n",
        "First let's install a package called `helperfns` that contains some machine learning utility functions."
      ],
      "metadata": {
        "id": "ZmY7UXDq_muF"
      }
    },
    {
      "cell_type": "code",
      "source": [
        "pip install helperfns -q"
      ],
      "metadata": {
        "colab": {
          "base_uri": "https://localhost:8080/"
        },
        "id": "doVnQEZQ6GFy",
        "outputId": "50c30528-840b-4073-9347-2943ac7e0e7b"
      },
      "execution_count": 1,
      "outputs": [
        {
          "output_type": "stream",
          "name": "stdout",
          "text": [
            "  Preparing metadata (setup.py) ... \u001b[?25l\u001b[?25hdone\n",
            "  Building wheel for sklearn (setup.py) ... \u001b[?25l\u001b[?25hdone\n"
          ]
        }
      ]
    },
    {
      "cell_type": "markdown",
      "source": [
        "### Imports\n",
        "\n",
        "In the following code cell we are going to import basic modules that we will be using in this notebook."
      ],
      "metadata": {
        "id": "adRYYq3hweUi"
      }
    },
    {
      "cell_type": "code",
      "source": [
        "import numpy as np\n",
        "import pandas as pd\n",
        "import torch\n",
        "import os\n",
        "import time\n",
        "from helperfns.torch import models\n",
        "from helperfns.tables import tabulate_data\n",
        "from helperfns.utils import hms_string\n",
        "from torch import nn\n",
        "from torch.utils.data import DataLoader, Dataset\n",
        "from sklearn import metrics, model_selection, preprocessing\n",
        "from matplotlib import pyplot as plt\n",
        "\n",
        "torch.__version__"
      ],
      "metadata": {
        "colab": {
          "base_uri": "https://localhost:8080/",
          "height": 35
        },
        "id": "eNaKD4sUpvZ_",
        "outputId": "74de2d3d-03c2-4b0d-f0ed-4fb545717b10"
      },
      "execution_count": 2,
      "outputs": [
        {
          "output_type": "execute_result",
          "data": {
            "text/plain": [
              "'2.0.1+cu118'"
            ],
            "application/vnd.google.colaboratory.intrinsic+json": {
              "type": "string"
            }
          },
          "metadata": {},
          "execution_count": 2
        }
      ]
    },
    {
      "cell_type": "markdown",
      "source": [
        "Setting the `seed` for reproducivity."
      ],
      "metadata": {
        "id": "wtVcHP5BwZB3"
      }
    },
    {
      "cell_type": "code",
      "source": [
        "SEED = 42\n",
        "\n",
        "torch.manual_seed(SEED)\n",
        "torch.cuda.manual_seed(SEED)\n",
        "np.random.seed(SEED)\n",
        "torch.backends.cudnn.deterministic = True"
      ],
      "metadata": {
        "id": "rO1cvDTsq2dz"
      },
      "execution_count": 3,
      "outputs": []
    },
    {
      "cell_type": "markdown",
      "source": [
        "Gettig the access to the `gpu` if available"
      ],
      "metadata": {
        "id": "MDSBxb5C41X9"
      }
    },
    {
      "cell_type": "code",
      "source": [
        "device = torch.device('cuda' if torch.cuda.is_available() else 'cpu')\n",
        "device"
      ],
      "metadata": {
        "colab": {
          "base_uri": "https://localhost:8080/"
        },
        "id": "5k_LIp4E46df",
        "outputId": "26f7baeb-7e53-49c1-aaea-4cffe08f9bf2"
      },
      "execution_count": 4,
      "outputs": [
        {
          "output_type": "execute_result",
          "data": {
            "text/plain": [
              "device(type='cuda')"
            ]
          },
          "metadata": {},
          "execution_count": 4
        }
      ]
    },
    {
      "cell_type": "markdown",
      "source": [
        "### Data\n",
        "The dataset that i will be using to perform this task was found on [`kaggle`](https://www.kaggle.com/competitions/predict-movie-ratings/data).We will be loading this data from a google drive so we need to mount the drive as follows:"
      ],
      "metadata": {
        "id": "4JVK_axvwPZP"
      }
    },
    {
      "cell_type": "code",
      "source": [
        "from google.colab import drive\n",
        "drive.mount('/content/drive')"
      ],
      "metadata": {
        "colab": {
          "base_uri": "https://localhost:8080/"
        },
        "id": "0zpPHGeixAYp",
        "outputId": "303a8acc-64e2-4cc2-d828-3ede6b57c341"
      },
      "execution_count": 5,
      "outputs": [
        {
          "output_type": "stream",
          "name": "stdout",
          "text": [
            "Mounted at /content/drive\n"
          ]
        }
      ]
    },
    {
      "cell_type": "markdown",
      "source": [
        "Next we are going to define the base path for our dataset."
      ],
      "metadata": {
        "id": "nVPaTFLdxNsA"
      }
    },
    {
      "cell_type": "code",
      "source": [
        "base_dir = '/content/drive/MyDrive/REC SYS/MOVIE_RATINGS'\n",
        "assert os.path.exists(base_dir), f\"The path {base_dir} does not exists.\""
      ],
      "metadata": {
        "id": "Pd2Xv9Twx_qj"
      },
      "execution_count": 6,
      "outputs": []
    },
    {
      "cell_type": "markdown",
      "source": [
        "Then we are going to read the `train_v2.csv` file into a dataframe as follows:"
      ],
      "metadata": {
        "id": "oVuF__2SyZHw"
      }
    },
    {
      "cell_type": "code",
      "source": [
        "df = pd.read_csv(os.path.join(base_dir, 'train_v2.csv'))"
      ],
      "metadata": {
        "id": "JwTIIH4bqXKx"
      },
      "execution_count": 7,
      "outputs": []
    },
    {
      "cell_type": "markdown",
      "source": [
        "Next we are going to check the `head` of our dataframe."
      ],
      "metadata": {
        "id": "S-ki2f8zyl0K"
      }
    },
    {
      "cell_type": "code",
      "source": [
        "df.head(5)"
      ],
      "metadata": {
        "colab": {
          "base_uri": "https://localhost:8080/",
          "height": 206
        },
        "id": "_uMiqhkDyrjA",
        "outputId": "94921d91-d5b0-49a3-f8b6-2d066f67edcc"
      },
      "execution_count": 8,
      "outputs": [
        {
          "output_type": "execute_result",
          "data": {
            "text/plain": [
              "       ID  user  movie  rating\n",
              "0  610739  3704   3784       3\n",
              "1  324753  1924    802       3\n",
              "2  808218  4837   1387       4\n",
              "3  133808   867   1196       4\n",
              "4  431858  2631   3072       5"
            ],
            "text/html": [
              "\n",
              "  <div id=\"df-9d11c36a-151b-4c68-897d-47f32155f2e2\">\n",
              "    <div class=\"colab-df-container\">\n",
              "      <div>\n",
              "<style scoped>\n",
              "    .dataframe tbody tr th:only-of-type {\n",
              "        vertical-align: middle;\n",
              "    }\n",
              "\n",
              "    .dataframe tbody tr th {\n",
              "        vertical-align: top;\n",
              "    }\n",
              "\n",
              "    .dataframe thead th {\n",
              "        text-align: right;\n",
              "    }\n",
              "</style>\n",
              "<table border=\"1\" class=\"dataframe\">\n",
              "  <thead>\n",
              "    <tr style=\"text-align: right;\">\n",
              "      <th></th>\n",
              "      <th>ID</th>\n",
              "      <th>user</th>\n",
              "      <th>movie</th>\n",
              "      <th>rating</th>\n",
              "    </tr>\n",
              "  </thead>\n",
              "  <tbody>\n",
              "    <tr>\n",
              "      <th>0</th>\n",
              "      <td>610739</td>\n",
              "      <td>3704</td>\n",
              "      <td>3784</td>\n",
              "      <td>3</td>\n",
              "    </tr>\n",
              "    <tr>\n",
              "      <th>1</th>\n",
              "      <td>324753</td>\n",
              "      <td>1924</td>\n",
              "      <td>802</td>\n",
              "      <td>3</td>\n",
              "    </tr>\n",
              "    <tr>\n",
              "      <th>2</th>\n",
              "      <td>808218</td>\n",
              "      <td>4837</td>\n",
              "      <td>1387</td>\n",
              "      <td>4</td>\n",
              "    </tr>\n",
              "    <tr>\n",
              "      <th>3</th>\n",
              "      <td>133808</td>\n",
              "      <td>867</td>\n",
              "      <td>1196</td>\n",
              "      <td>4</td>\n",
              "    </tr>\n",
              "    <tr>\n",
              "      <th>4</th>\n",
              "      <td>431858</td>\n",
              "      <td>2631</td>\n",
              "      <td>3072</td>\n",
              "      <td>5</td>\n",
              "    </tr>\n",
              "  </tbody>\n",
              "</table>\n",
              "</div>\n",
              "      <button class=\"colab-df-convert\" onclick=\"convertToInteractive('df-9d11c36a-151b-4c68-897d-47f32155f2e2')\"\n",
              "              title=\"Convert this dataframe to an interactive table.\"\n",
              "              style=\"display:none;\">\n",
              "        \n",
              "  <svg xmlns=\"http://www.w3.org/2000/svg\" height=\"24px\"viewBox=\"0 0 24 24\"\n",
              "       width=\"24px\">\n",
              "    <path d=\"M0 0h24v24H0V0z\" fill=\"none\"/>\n",
              "    <path d=\"M18.56 5.44l.94 2.06.94-2.06 2.06-.94-2.06-.94-.94-2.06-.94 2.06-2.06.94zm-11 1L8.5 8.5l.94-2.06 2.06-.94-2.06-.94L8.5 2.5l-.94 2.06-2.06.94zm10 10l.94 2.06.94-2.06 2.06-.94-2.06-.94-.94-2.06-.94 2.06-2.06.94z\"/><path d=\"M17.41 7.96l-1.37-1.37c-.4-.4-.92-.59-1.43-.59-.52 0-1.04.2-1.43.59L10.3 9.45l-7.72 7.72c-.78.78-.78 2.05 0 2.83L4 21.41c.39.39.9.59 1.41.59.51 0 1.02-.2 1.41-.59l7.78-7.78 2.81-2.81c.8-.78.8-2.07 0-2.86zM5.41 20L4 18.59l7.72-7.72 1.47 1.35L5.41 20z\"/>\n",
              "  </svg>\n",
              "      </button>\n",
              "      \n",
              "  <style>\n",
              "    .colab-df-container {\n",
              "      display:flex;\n",
              "      flex-wrap:wrap;\n",
              "      gap: 12px;\n",
              "    }\n",
              "\n",
              "    .colab-df-convert {\n",
              "      background-color: #E8F0FE;\n",
              "      border: none;\n",
              "      border-radius: 50%;\n",
              "      cursor: pointer;\n",
              "      display: none;\n",
              "      fill: #1967D2;\n",
              "      height: 32px;\n",
              "      padding: 0 0 0 0;\n",
              "      width: 32px;\n",
              "    }\n",
              "\n",
              "    .colab-df-convert:hover {\n",
              "      background-color: #E2EBFA;\n",
              "      box-shadow: 0px 1px 2px rgba(60, 64, 67, 0.3), 0px 1px 3px 1px rgba(60, 64, 67, 0.15);\n",
              "      fill: #174EA6;\n",
              "    }\n",
              "\n",
              "    [theme=dark] .colab-df-convert {\n",
              "      background-color: #3B4455;\n",
              "      fill: #D2E3FC;\n",
              "    }\n",
              "\n",
              "    [theme=dark] .colab-df-convert:hover {\n",
              "      background-color: #434B5C;\n",
              "      box-shadow: 0px 1px 3px 1px rgba(0, 0, 0, 0.15);\n",
              "      filter: drop-shadow(0px 1px 2px rgba(0, 0, 0, 0.3));\n",
              "      fill: #FFFFFF;\n",
              "    }\n",
              "  </style>\n",
              "\n",
              "      <script>\n",
              "        const buttonEl =\n",
              "          document.querySelector('#df-9d11c36a-151b-4c68-897d-47f32155f2e2 button.colab-df-convert');\n",
              "        buttonEl.style.display =\n",
              "          google.colab.kernel.accessAllowed ? 'block' : 'none';\n",
              "\n",
              "        async function convertToInteractive(key) {\n",
              "          const element = document.querySelector('#df-9d11c36a-151b-4c68-897d-47f32155f2e2');\n",
              "          const dataTable =\n",
              "            await google.colab.kernel.invokeFunction('convertToInteractive',\n",
              "                                                     [key], {});\n",
              "          if (!dataTable) return;\n",
              "\n",
              "          const docLinkHtml = 'Like what you see? Visit the ' +\n",
              "            '<a target=\"_blank\" href=https://colab.research.google.com/notebooks/data_table.ipynb>data table notebook</a>'\n",
              "            + ' to learn more about interactive tables.';\n",
              "          element.innerHTML = '';\n",
              "          dataTable['output_type'] = 'display_data';\n",
              "          await google.colab.output.renderOutput(dataTable, element);\n",
              "          const docLink = document.createElement('div');\n",
              "          docLink.innerHTML = docLinkHtml;\n",
              "          element.appendChild(docLink);\n",
              "        }\n",
              "      </script>\n",
              "    </div>\n",
              "  </div>\n",
              "  "
            ]
          },
          "metadata": {},
          "execution_count": 8
        }
      ]
    },
    {
      "cell_type": "markdown",
      "source": [
        "So we are intrested of predicting the `rating` of the movie given a `userId` and `movieId`. So we are basically identifying weather the user will like the movie or not.\n",
        "\n",
        "\n",
        "We can check the distribution of each rating in the dataframe as follows:"
      ],
      "metadata": {
        "id": "EOiL9_GyyvVF"
      }
    },
    {
      "cell_type": "code",
      "source": [
        "df.rating.value_counts()"
      ],
      "metadata": {
        "colab": {
          "base_uri": "https://localhost:8080/"
        },
        "id": "03SK12Y0yu_p",
        "outputId": "a94f005f-b1f9-44d0-c8db-65c5135b1ac4"
      },
      "execution_count": 9,
      "outputs": [
        {
          "output_type": "execute_result",
          "data": {
            "text/plain": [
              "4    261916\n",
              "3    195864\n",
              "5    169556\n",
              "2     80862\n",
              "1     41958\n",
              "Name: rating, dtype: int64"
            ]
          },
          "metadata": {},
          "execution_count": 9
        }
      ]
    },
    {
      "cell_type": "markdown",
      "source": [
        "We can aslo check how many `unique` users and movies do we have in this dataframe as follows:"
      ],
      "metadata": {
        "id": "H_SYQgIpzmLW"
      }
    },
    {
      "cell_type": "code",
      "source": [
        "df.user.nunique(), df.movie.nunique()"
      ],
      "metadata": {
        "colab": {
          "base_uri": "https://localhost:8080/"
        },
        "id": "LL9pmX-Izuxe",
        "outputId": "17ccc055-6621-4840-9e9b-dff9b5e76362"
      },
      "execution_count": 10,
      "outputs": [
        {
          "output_type": "execute_result",
          "data": {
            "text/plain": [
              "(6040, 3676)"
            ]
          },
          "metadata": {},
          "execution_count": 10
        }
      ]
    },
    {
      "cell_type": "markdown",
      "source": [
        "> We have `~6K` users which are rating `~3.5K` movies.\n",
        "\n",
        "\n",
        "Next let's create a dataset class we will call it `MovieDataset`. We are doing this so that later on when training the model we are going to pass the data in batches."
      ],
      "metadata": {
        "id": "sGTGSGv-z6FW"
      }
    },
    {
      "cell_type": "code",
      "execution_count": 11,
      "metadata": {
        "id": "fNFqGx7mpav8"
      },
      "outputs": [],
      "source": [
        "class MovieDataset(Dataset):\n",
        "  def __init__(self, users, movies, ratings):\n",
        "    self.users = users\n",
        "    self.movies = movies\n",
        "    self.ratings = ratings\n",
        "\n",
        "  def __len__(self):\n",
        "    return len(self.users)\n",
        "\n",
        "  def __getitem__(self, index):\n",
        "    return {\n",
        "        'users': torch.tensor(self.users[index], dtype=torch.long), \n",
        "        'movies': torch.tensor(self.movies[index], dtype=torch.long), \n",
        "        'ratings': torch.tensor(self.ratings[index], dtype=torch.float)\n",
        "    }"
      ]
    },
    {
      "cell_type": "markdown",
      "source": [
        "Our features which is `movie` and `user` are numbers that are random so we want to encode them and using the `LabelEncoder` class from `sklearn` and we will update our dataframe before splitting it into train and validation set as follows:"
      ],
      "metadata": {
        "id": "sXoOtt_M0q5J"
      }
    },
    {
      "cell_type": "code",
      "source": [
        "label_user = preprocessing.LabelEncoder()\n",
        "label_movie = preprocessing.LabelEncoder()\n",
        "\n",
        "df['user'] = label_user.fit_transform(df.user.values)\n",
        "df['movie'] = label_movie.fit_transform(df.movie.values)"
      ],
      "metadata": {
        "id": "Q8ioX8e_uaIP"
      },
      "execution_count": 12,
      "outputs": []
    },
    {
      "cell_type": "markdown",
      "source": [
        "Now let's check the first `5` rows in our dataframe."
      ],
      "metadata": {
        "id": "UYLc0CxD1CXD"
      }
    },
    {
      "cell_type": "code",
      "source": [
        "df.head(5)"
      ],
      "metadata": {
        "colab": {
          "base_uri": "https://localhost:8080/",
          "height": 206
        },
        "id": "8HZtCi6W1HbR",
        "outputId": "0400e194-fbba-4324-af44-4b7171c38aa8"
      },
      "execution_count": 13,
      "outputs": [
        {
          "output_type": "execute_result",
          "data": {
            "text/plain": [
              "       ID  user  movie  rating\n",
              "0  610739  3703   3511       3\n",
              "1  324753  1923    752       3\n",
              "2  808218  4836   1281       4\n",
              "3  133808   866   1099       4\n",
              "4  431858  2630   2835       5"
            ],
            "text/html": [
              "\n",
              "  <div id=\"df-fbd6baf3-16a0-4951-944a-94c24dc836ed\">\n",
              "    <div class=\"colab-df-container\">\n",
              "      <div>\n",
              "<style scoped>\n",
              "    .dataframe tbody tr th:only-of-type {\n",
              "        vertical-align: middle;\n",
              "    }\n",
              "\n",
              "    .dataframe tbody tr th {\n",
              "        vertical-align: top;\n",
              "    }\n",
              "\n",
              "    .dataframe thead th {\n",
              "        text-align: right;\n",
              "    }\n",
              "</style>\n",
              "<table border=\"1\" class=\"dataframe\">\n",
              "  <thead>\n",
              "    <tr style=\"text-align: right;\">\n",
              "      <th></th>\n",
              "      <th>ID</th>\n",
              "      <th>user</th>\n",
              "      <th>movie</th>\n",
              "      <th>rating</th>\n",
              "    </tr>\n",
              "  </thead>\n",
              "  <tbody>\n",
              "    <tr>\n",
              "      <th>0</th>\n",
              "      <td>610739</td>\n",
              "      <td>3703</td>\n",
              "      <td>3511</td>\n",
              "      <td>3</td>\n",
              "    </tr>\n",
              "    <tr>\n",
              "      <th>1</th>\n",
              "      <td>324753</td>\n",
              "      <td>1923</td>\n",
              "      <td>752</td>\n",
              "      <td>3</td>\n",
              "    </tr>\n",
              "    <tr>\n",
              "      <th>2</th>\n",
              "      <td>808218</td>\n",
              "      <td>4836</td>\n",
              "      <td>1281</td>\n",
              "      <td>4</td>\n",
              "    </tr>\n",
              "    <tr>\n",
              "      <th>3</th>\n",
              "      <td>133808</td>\n",
              "      <td>866</td>\n",
              "      <td>1099</td>\n",
              "      <td>4</td>\n",
              "    </tr>\n",
              "    <tr>\n",
              "      <th>4</th>\n",
              "      <td>431858</td>\n",
              "      <td>2630</td>\n",
              "      <td>2835</td>\n",
              "      <td>5</td>\n",
              "    </tr>\n",
              "  </tbody>\n",
              "</table>\n",
              "</div>\n",
              "      <button class=\"colab-df-convert\" onclick=\"convertToInteractive('df-fbd6baf3-16a0-4951-944a-94c24dc836ed')\"\n",
              "              title=\"Convert this dataframe to an interactive table.\"\n",
              "              style=\"display:none;\">\n",
              "        \n",
              "  <svg xmlns=\"http://www.w3.org/2000/svg\" height=\"24px\"viewBox=\"0 0 24 24\"\n",
              "       width=\"24px\">\n",
              "    <path d=\"M0 0h24v24H0V0z\" fill=\"none\"/>\n",
              "    <path d=\"M18.56 5.44l.94 2.06.94-2.06 2.06-.94-2.06-.94-.94-2.06-.94 2.06-2.06.94zm-11 1L8.5 8.5l.94-2.06 2.06-.94-2.06-.94L8.5 2.5l-.94 2.06-2.06.94zm10 10l.94 2.06.94-2.06 2.06-.94-2.06-.94-.94-2.06-.94 2.06-2.06.94z\"/><path d=\"M17.41 7.96l-1.37-1.37c-.4-.4-.92-.59-1.43-.59-.52 0-1.04.2-1.43.59L10.3 9.45l-7.72 7.72c-.78.78-.78 2.05 0 2.83L4 21.41c.39.39.9.59 1.41.59.51 0 1.02-.2 1.41-.59l7.78-7.78 2.81-2.81c.8-.78.8-2.07 0-2.86zM5.41 20L4 18.59l7.72-7.72 1.47 1.35L5.41 20z\"/>\n",
              "  </svg>\n",
              "      </button>\n",
              "      \n",
              "  <style>\n",
              "    .colab-df-container {\n",
              "      display:flex;\n",
              "      flex-wrap:wrap;\n",
              "      gap: 12px;\n",
              "    }\n",
              "\n",
              "    .colab-df-convert {\n",
              "      background-color: #E8F0FE;\n",
              "      border: none;\n",
              "      border-radius: 50%;\n",
              "      cursor: pointer;\n",
              "      display: none;\n",
              "      fill: #1967D2;\n",
              "      height: 32px;\n",
              "      padding: 0 0 0 0;\n",
              "      width: 32px;\n",
              "    }\n",
              "\n",
              "    .colab-df-convert:hover {\n",
              "      background-color: #E2EBFA;\n",
              "      box-shadow: 0px 1px 2px rgba(60, 64, 67, 0.3), 0px 1px 3px 1px rgba(60, 64, 67, 0.15);\n",
              "      fill: #174EA6;\n",
              "    }\n",
              "\n",
              "    [theme=dark] .colab-df-convert {\n",
              "      background-color: #3B4455;\n",
              "      fill: #D2E3FC;\n",
              "    }\n",
              "\n",
              "    [theme=dark] .colab-df-convert:hover {\n",
              "      background-color: #434B5C;\n",
              "      box-shadow: 0px 1px 3px 1px rgba(0, 0, 0, 0.15);\n",
              "      filter: drop-shadow(0px 1px 2px rgba(0, 0, 0, 0.3));\n",
              "      fill: #FFFFFF;\n",
              "    }\n",
              "  </style>\n",
              "\n",
              "      <script>\n",
              "        const buttonEl =\n",
              "          document.querySelector('#df-fbd6baf3-16a0-4951-944a-94c24dc836ed button.colab-df-convert');\n",
              "        buttonEl.style.display =\n",
              "          google.colab.kernel.accessAllowed ? 'block' : 'none';\n",
              "\n",
              "        async function convertToInteractive(key) {\n",
              "          const element = document.querySelector('#df-fbd6baf3-16a0-4951-944a-94c24dc836ed');\n",
              "          const dataTable =\n",
              "            await google.colab.kernel.invokeFunction('convertToInteractive',\n",
              "                                                     [key], {});\n",
              "          if (!dataTable) return;\n",
              "\n",
              "          const docLinkHtml = 'Like what you see? Visit the ' +\n",
              "            '<a target=\"_blank\" href=https://colab.research.google.com/notebooks/data_table.ipynb>data table notebook</a>'\n",
              "            + ' to learn more about interactive tables.';\n",
              "          element.innerHTML = '';\n",
              "          dataTable['output_type'] = 'display_data';\n",
              "          await google.colab.output.renderOutput(dataTable, element);\n",
              "          const docLink = document.createElement('div');\n",
              "          docLink.innerHTML = docLinkHtml;\n",
              "          element.appendChild(docLink);\n",
              "        }\n",
              "      </script>\n",
              "    </div>\n",
              "  </div>\n",
              "  "
            ]
          },
          "metadata": {},
          "execution_count": 13
        }
      ]
    },
    {
      "cell_type": "markdown",
      "source": [
        "Now that we have transformed labels let's go ahead and create a validation set from the train data. We are going ti use the `train_test_split` method from `sklearn.model` selection and we will pass the argument `stratify` as the ratngs of the movies by the user so that `sklearn` will try to balance rattings for us accross our sets. "
      ],
      "metadata": {
        "id": "7SSD8UeX1ZUJ"
      }
    },
    {
      "cell_type": "code",
      "source": [
        "train_data, valid_data = model_selection.train_test_split(df, test_size=.1, random_state=SEED, stratify=df.rating.values)"
      ],
      "metadata": {
        "id": "AlREpXYLqg9g"
      },
      "execution_count": 14,
      "outputs": []
    },
    {
      "cell_type": "markdown",
      "source": [
        "Then we can create our dataset as follows:"
      ],
      "metadata": {
        "id": "8jllAeob2AYG"
      }
    },
    {
      "cell_type": "code",
      "source": [
        "train_dataset = MovieDataset(\n",
        "    users = train_data.user.values, \n",
        "    movies = train_data.movie.values, \n",
        "    ratings = train_data.rating.values, \n",
        ")\n",
        "valid_dataset = MovieDataset(\n",
        "    users = valid_data.user.values, \n",
        "    movies = valid_data.movie.values, \n",
        "    ratings = valid_data.rating.values, \n",
        ")"
      ],
      "metadata": {
        "id": "L1giUc5qq4_P"
      },
      "execution_count": 15,
      "outputs": []
    },
    {
      "cell_type": "markdown",
      "source": [
        "Now we can create our `train` and `valid` loders and specify the batch size to be `16`."
      ],
      "metadata": {
        "id": "XV6vmE-u21_d"
      }
    },
    {
      "cell_type": "code",
      "source": [
        "BATCH_SIZE = 64\n",
        "train_loader = DataLoader(\n",
        "    dataset=train_dataset,\n",
        "    batch_size=BATCH_SIZE,\n",
        "    shuffle=True,\n",
        ")\n",
        "val_loader = DataLoader(\n",
        "    dataset=valid_dataset,\n",
        "    batch_size=BATCH_SIZE,\n",
        "    shuffle=False,\n",
        ")"
      ],
      "metadata": {
        "id": "u8LlyOYg29mQ"
      },
      "execution_count": 16,
      "outputs": []
    },
    {
      "cell_type": "markdown",
      "source": [
        "Let's check example in our first batch for the `rating`, `movie` and `user` in the `train_loader`"
      ],
      "metadata": {
        "id": "901Yxte53Ul0"
      }
    },
    {
      "cell_type": "code",
      "source": [
        "example = next(iter(train_loader))"
      ],
      "metadata": {
        "id": "ANay15mJ3UGc"
      },
      "execution_count": 17,
      "outputs": []
    },
    {
      "cell_type": "code",
      "source": [
        "example"
      ],
      "metadata": {
        "colab": {
          "base_uri": "https://localhost:8080/"
        },
        "id": "J422gNdv3uWP",
        "outputId": "e3eac5ed-9d4d-4711-fe46-6bd70a372af9"
      },
      "execution_count": 18,
      "outputs": [
        {
          "output_type": "execute_result",
          "data": {
            "text/plain": [
              "{'users': tensor([5648, 2022, 5490, 5458, 5025, 5168, 3650, 5912, 5368, 2591,  508, 5748,\n",
              "         5962, 2346, 1446, 2875,  270, 1675, 5614,  849,  910, 4015, 4836,  480,\n",
              "         4226, 1591, 5122, 4309,  780, 1087, 1436, 3902, 5533, 1801, 5574, 2979,\n",
              "         3354, 1879, 3065, 5769, 4017, 4459, 2334, 5803,  928, 2729, 5268, 3991,\n",
              "         2819, 2009, 3279, 5422, 3807, 3695, 1014, 2019, 2113,  434,  734, 5344,\n",
              "         1444,  356, 2359, 3335]),\n",
              " 'movies': tensor([1128,  685,  425, 3004, 3443, 1450, 2313, 1620, 1074, 2720, 2717, 2951,\n",
              "         1192, 1018,  368, 2195, 1966, 1000, 2325,  738,  258, 2036, 3438, 1916,\n",
              "         3437, 3649, 1484, 1589, 2763, 2603, 1937, 2262, 1441,  883, 1105, 1767,\n",
              "         1768, 3005,  985, 1762,    5, 2069, 3657,  876, 1544, 1412, 2579, 1172,\n",
              "          396, 1620,  774, 2844,  425, 2866, 1731, 2485, 1998, 2181, 1808,    9,\n",
              "         1830,  570, 1001,  568]),\n",
              " 'ratings': tensor([5., 5., 4., 4., 1., 2., 4., 2., 3., 2., 3., 5., 4., 5., 3., 3., 5., 4.,\n",
              "         3., 4., 4., 3., 3., 2., 2., 4., 4., 4., 4., 4., 5., 4., 5., 4., 3., 4.,\n",
              "         5., 3., 4., 4., 4., 2., 3., 2., 5., 5., 5., 3., 5., 3., 3., 3., 4., 4.,\n",
              "         4., 3., 3., 2., 4., 4., 1., 1., 4., 2.])}"
            ]
          },
          "metadata": {},
          "execution_count": 18
        }
      ]
    },
    {
      "cell_type": "markdown",
      "source": [
        "Now we can go ahead and create our model. We are going to create a model called `RecSysModel`"
      ],
      "metadata": {
        "id": "46UmDttD3yu0"
      }
    },
    {
      "cell_type": "code",
      "source": [
        "class RecSysModel(nn.Module):\n",
        "  def __init__(self, num_users, num_movies):\n",
        "    super(RecSysModel, self).__init__()\n",
        "    self.user_emb = nn.Embedding(num_users, 32)\n",
        "    self.movie_emb = nn.Embedding(num_movies, 32)\n",
        "    # initializing the weight for better model results\n",
        "    self.user_emb.weight.data.uniform_(0, 0.5)\n",
        "    self.movie_emb.weight.data.uniform_(0, 0.5)\n",
        "    self.out = nn.Linear(64, 1) # 32 + 32\n",
        "\n",
        "  def forward(self, users, movies):\n",
        "    user_embeds = self.user_emb(users)\n",
        "    movie_embeds = self.movie_emb(movies)\n",
        "    output = torch.cat([user_embeds, movie_embeds], dim=1)\n",
        "    output = self.out(output)\n",
        "    return output"
      ],
      "metadata": {
        "id": "EQNvp-BcrS_M"
      },
      "execution_count": 19,
      "outputs": []
    },
    {
      "cell_type": "markdown",
      "source": [
        "Next we are going to create a model instance, we are going to pass the unique number of `users` and unique number of `movies` to the instance of our model."
      ],
      "metadata": {
        "id": "ByxyCZQP5Lz5"
      }
    },
    {
      "cell_type": "code",
      "source": [
        "num_users, num_movies = len(label_user.classes_), len(label_movie.classes_)"
      ],
      "metadata": {
        "id": "oA16-1iKvM7A"
      },
      "execution_count": 20,
      "outputs": []
    },
    {
      "cell_type": "code",
      "source": [
        "model = RecSysModel(\n",
        "     num_users, num_movies\n",
        ").to(device)\n",
        "model"
      ],
      "metadata": {
        "colab": {
          "base_uri": "https://localhost:8080/"
        },
        "id": "tzYxMeFZvHV2",
        "outputId": "67a8a8c6-0cbf-4874-b57f-6e6d5d86ac11"
      },
      "execution_count": 21,
      "outputs": [
        {
          "output_type": "execute_result",
          "data": {
            "text/plain": [
              "RecSysModel(\n",
              "  (user_emb): Embedding(6040, 32)\n",
              "  (movie_emb): Embedding(3676, 32)\n",
              "  (out): Linear(in_features=64, out_features=1, bias=True)\n",
              ")"
            ]
          },
          "metadata": {},
          "execution_count": 21
        }
      ]
    },
    {
      "cell_type": "markdown",
      "source": [
        "Now we can count the model parameters."
      ],
      "metadata": {
        "id": "gM2Sx_386iwO"
      }
    },
    {
      "cell_type": "code",
      "source": [
        "models.model_params(model)"
      ],
      "metadata": {
        "colab": {
          "base_uri": "https://localhost:8080/"
        },
        "id": "TMJwve9u6mFi",
        "outputId": "3d7c58de-00cc-4739-ae16-fd92158ce342"
      },
      "execution_count": 22,
      "outputs": [
        {
          "output_type": "stream",
          "name": "stdout",
          "text": [
            "TOTAL MODEL PARAMETERS: \t310,977\n",
            "TOTAL TRAINABLE PARAMETERS: \t310,977\n"
          ]
        }
      ]
    },
    {
      "cell_type": "markdown",
      "source": [
        "Next we are going to define our `optimizer` and `criterion`. Note that for the criterion we are using the `MSELoss` as we are trying to predict a number"
      ],
      "metadata": {
        "id": "YNiNrshr6xAh"
      }
    },
    {
      "cell_type": "code",
      "source": [
        "criterion = nn.MSELoss().to(device)\n",
        "optimizer = torch.optim.Adam(model.parameters())"
      ],
      "metadata": {
        "id": "TmkDfICnuFf3"
      },
      "execution_count": 23,
      "outputs": []
    },
    {
      "cell_type": "markdown",
      "source": [
        "That we are using `mse` loss we need to create a function that will helps us to calculate the  `Root Mean Squared Error` for our predictions on ratings and the actual rattings. "
      ],
      "metadata": {
        "id": "v_MJC6Bz7EWV"
      }
    },
    {
      "cell_type": "code",
      "source": [
        "def rmse_metrics(output, rating):\n",
        "  rating = rating.detach().cpu().numpy()\n",
        "  output = output.detach().cpu().numpy()\n",
        "  rmse = np.sqrt(metrics.mean_squared_error(rating, output))\n",
        "  return {\n",
        "      'rmse': rmse\n",
        "  }"
      ],
      "metadata": {
        "id": "4k4ew7R_6-5e"
      },
      "execution_count": 24,
      "outputs": []
    },
    {
      "cell_type": "markdown",
      "source": [
        "Next we are going to define the `train` and `evaluate` function that we will be using to train and evaluate the model. "
      ],
      "metadata": {
        "id": "7slsM04y7lGs"
      }
    },
    {
      "cell_type": "code",
      "source": [
        "def train(model, iterator, optimizer, criterion):\n",
        "  epoch_loss, epoch_rmse = 0, 0\n",
        "  model.train()\n",
        "  for batch in iterator:\n",
        "    users = batch['users'].to(device)\n",
        "    movies = batch['movies'].to(device)\n",
        "    ratings = batch['ratings'].to(device)\n",
        "    optimizer.zero_grad()\n",
        "    predictions = model(users, movies)\n",
        "    loss = criterion(predictions, ratings.view(-1, 1))\n",
        "    rmse = rmse_metrics(predictions, ratings.view(-1, 1))\n",
        "    loss.backward()\n",
        "    optimizer.step()\n",
        "    epoch_loss += loss.item()\n",
        "    epoch_rmse += rmse['rmse']\n",
        "  return epoch_loss / len(iterator), epoch_rmse / len(iterator)\n",
        "\n",
        "def evaluate(model, iterator, criterion):\n",
        "  epoch_loss, epoch_rmse = 0, 0\n",
        "  model.eval()\n",
        "  with torch.no_grad():\n",
        "    for batch in iterator:\n",
        "      users = batch['users'].to(device)\n",
        "      movies = batch['movies'].to(device)\n",
        "      ratings = batch['ratings'].to(device)\n",
        "      predictions = model(users, movies)\n",
        "      loss = criterion(predictions, ratings.view(-1, 1))\n",
        "      rmse = rmse_metrics(predictions, ratings.view(-1, 1))\n",
        "      epoch_loss += loss.item()\n",
        "      epoch_rmse += rmse['rmse']\n",
        "    return epoch_loss / len(iterator), epoch_rmse / len(iterator)"
      ],
      "metadata": {
        "id": "hRBox3Y37iuw"
      },
      "execution_count": 25,
      "outputs": []
    },
    {
      "cell_type": "markdown",
      "source": [
        "Running the training loop..."
      ],
      "metadata": {
        "id": "I_z-7baL_gny"
      }
    },
    {
      "cell_type": "code",
      "source": [
        "\n",
        "N_EPOCHS = 20\n",
        "MODEL_NAME = 'best_model.pt'\n",
        "\n",
        "# we need a way of keeping tracking the matrics\n",
        "train_mses = []\n",
        "train_rmses = []\n",
        "val_mses = []\n",
        "val_rmses = []\n",
        "training_start = time.time()\n",
        "best_valid_mse = float('inf')\n",
        "last_saved_epoch = 0\n",
        "for epoch in range(N_EPOCHS):\n",
        "  start = time.time()\n",
        "  train_mse, train_rmse = train(model, train_loader, optimizer, criterion)\n",
        "  val_mse, val_rmse = evaluate(model, val_loader, criterion)\n",
        "  title = f\"EPOCH: {epoch+1:02}/{N_EPOCHS:02} {'saving best model...' if val_mse < best_valid_mse else 'not saving...'}\"\n",
        "  if val_mse < best_valid_mse:\n",
        "      best_valid_mse = val_mse\n",
        "      last_saved_epoch = epoch + 1\n",
        "      torch.save(model.state_dict(), MODEL_NAME)\n",
        "  end = time.time()\n",
        "\n",
        "  # keep in track of all the metrics during training\n",
        "  train_mses.append(train_mse)\n",
        "  train_rmses.append(train_rmse)\n",
        "  val_mses.append(val_mse)\n",
        "  val_rmses.append(val_rmse)\n",
        "\n",
        "  data = [\n",
        "       [\"Training\", f'{train_mse:.3f}', f'{train_rmse:.3f}',  f\"{hms_string(end - start)}\" ],\n",
        "       [\"Validation\", f'{val_mse:.3f}', f'{val_rmse:.3f}', \"\" ],       \n",
        "   ]\n",
        "  columns = [\"CATEGORY\", \"MSE\", \"RMSE\",  \"ETA\"]\n",
        "  print(title)\n",
        "  tabulate_data(columns, data, title)\n",
        "\n",
        "training_end= time.time()"
      ],
      "metadata": {
        "colab": {
          "base_uri": "https://localhost:8080/"
        },
        "id": "hD72bu7c9edZ",
        "outputId": "c7040e6f-5b87-4fe0-c8b8-6e87154e443b"
      },
      "execution_count": 26,
      "outputs": [
        {
          "output_type": "stream",
          "name": "stdout",
          "text": [
            "EPOCH: 01/20 saving best model...\n",
            "+------------+-------+-------+------------+\n",
            "| CATEGORY   |   MSE |  RMSE |        ETA |\n",
            "+------------+-------+-------+------------+\n",
            "| Training   | 0.993 | 0.964 | 0:00:38.55 |\n",
            "| Validation | 0.845 | 0.915 |            |\n",
            "+------------+-------+-------+------------+\n",
            "EPOCH: 02/20 saving best model...\n",
            "+------------+-------+-------+------------+\n",
            "| CATEGORY   |   MSE |  RMSE |        ETA |\n",
            "+------------+-------+-------+------------+\n",
            "| Training   | 0.840 | 0.913 | 0:00:33.33 |\n",
            "| Validation | 0.838 | 0.911 |            |\n",
            "+------------+-------+-------+------------+\n",
            "EPOCH: 03/20 saving best model...\n",
            "+------------+-------+-------+------------+\n",
            "| CATEGORY   |   MSE |  RMSE |        ETA |\n",
            "+------------+-------+-------+------------+\n",
            "| Training   | 0.833 | 0.909 | 0:00:34.06 |\n",
            "| Validation | 0.837 | 0.911 |            |\n",
            "+------------+-------+-------+------------+\n",
            "EPOCH: 04/20 saving best model...\n",
            "+------------+-------+-------+------------+\n",
            "| CATEGORY   |   MSE |  RMSE |        ETA |\n",
            "+------------+-------+-------+------------+\n",
            "| Training   | 0.829 | 0.907 | 0:00:33.06 |\n",
            "| Validation | 0.833 | 0.909 |            |\n",
            "+------------+-------+-------+------------+\n",
            "EPOCH: 05/20 saving best model...\n",
            "+------------+-------+-------+------------+\n",
            "| CATEGORY   |   MSE |  RMSE |        ETA |\n",
            "+------------+-------+-------+------------+\n",
            "| Training   | 0.826 | 0.905 | 0:00:33.94 |\n",
            "| Validation | 0.830 | 0.907 |            |\n",
            "+------------+-------+-------+------------+\n",
            "EPOCH: 06/20 saving best model...\n",
            "+------------+-------+-------+------------+\n",
            "| CATEGORY   |   MSE |  RMSE |        ETA |\n",
            "+------------+-------+-------+------------+\n",
            "| Training   | 0.824 | 0.903 | 0:00:33.11 |\n",
            "| Validation | 0.829 | 0.907 |            |\n",
            "+------------+-------+-------+------------+\n",
            "EPOCH: 07/20 not saving...\n",
            "+------------+-------+-------+------------+\n",
            "| CATEGORY   |   MSE |  RMSE |        ETA |\n",
            "+------------+-------+-------+------------+\n",
            "| Training   | 0.822 | 0.902 | 0:00:34.31 |\n",
            "| Validation | 0.829 | 0.907 |            |\n",
            "+------------+-------+-------+------------+\n",
            "EPOCH: 08/20 saving best model...\n",
            "+------------+-------+-------+------------+\n",
            "| CATEGORY   |   MSE |  RMSE |        ETA |\n",
            "+------------+-------+-------+------------+\n",
            "| Training   | 0.821 | 0.902 | 0:00:33.43 |\n",
            "| Validation | 0.827 | 0.905 |            |\n",
            "+------------+-------+-------+------------+\n",
            "EPOCH: 09/20 not saving...\n",
            "+------------+-------+-------+------------+\n",
            "| CATEGORY   |   MSE |  RMSE |        ETA |\n",
            "+------------+-------+-------+------------+\n",
            "| Training   | 0.819 | 0.901 | 0:00:34.12 |\n",
            "| Validation | 0.831 | 0.907 |            |\n",
            "+------------+-------+-------+------------+\n",
            "EPOCH: 10/20 not saving...\n",
            "+------------+-------+-------+------------+\n",
            "| CATEGORY   |   MSE |  RMSE |        ETA |\n",
            "+------------+-------+-------+------------+\n",
            "| Training   | 0.819 | 0.901 | 0:00:33.28 |\n",
            "| Validation | 0.832 | 0.908 |            |\n",
            "+------------+-------+-------+------------+\n",
            "EPOCH: 11/20 saving best model...\n",
            "+------------+-------+-------+------------+\n",
            "| CATEGORY   |   MSE |  RMSE |        ETA |\n",
            "+------------+-------+-------+------------+\n",
            "| Training   | 0.818 | 0.900 | 0:00:34.31 |\n",
            "| Validation | 0.825 | 0.904 |            |\n",
            "+------------+-------+-------+------------+\n",
            "EPOCH: 12/20 not saving...\n",
            "+------------+-------+-------+------------+\n",
            "| CATEGORY   |   MSE |  RMSE |        ETA |\n",
            "+------------+-------+-------+------------+\n",
            "| Training   | 0.817 | 0.900 | 0:00:33.44 |\n",
            "| Validation | 0.827 | 0.905 |            |\n",
            "+------------+-------+-------+------------+\n",
            "EPOCH: 13/20 not saving...\n",
            "+------------+-------+-------+------------+\n",
            "| CATEGORY   |   MSE |  RMSE |        ETA |\n",
            "+------------+-------+-------+------------+\n",
            "| Training   | 0.816 | 0.899 | 0:00:34.21 |\n",
            "| Validation | 0.826 | 0.905 |            |\n",
            "+------------+-------+-------+------------+\n",
            "EPOCH: 14/20 not saving...\n",
            "+------------+-------+-------+------------+\n",
            "| CATEGORY   |   MSE |  RMSE |        ETA |\n",
            "+------------+-------+-------+------------+\n",
            "| Training   | 0.816 | 0.899 | 0:00:33.32 |\n",
            "| Validation | 0.826 | 0.904 |            |\n",
            "+------------+-------+-------+------------+\n",
            "EPOCH: 15/20 not saving...\n",
            "+------------+-------+-------+------------+\n",
            "| CATEGORY   |   MSE |  RMSE |        ETA |\n",
            "+------------+-------+-------+------------+\n",
            "| Training   | 0.815 | 0.899 | 0:00:46.53 |\n",
            "| Validation | 0.826 | 0.904 |            |\n",
            "+------------+-------+-------+------------+\n",
            "EPOCH: 16/20 saving best model...\n",
            "+------------+-------+-------+------------+\n",
            "| CATEGORY   |   MSE |  RMSE |        ETA |\n",
            "+------------+-------+-------+------------+\n",
            "| Training   | 0.815 | 0.899 | 0:00:34.83 |\n",
            "| Validation | 0.825 | 0.904 |            |\n",
            "+------------+-------+-------+------------+\n",
            "EPOCH: 17/20 saving best model...\n",
            "+------------+-------+-------+------------+\n",
            "| CATEGORY   |   MSE |  RMSE |        ETA |\n",
            "+------------+-------+-------+------------+\n",
            "| Training   | 0.815 | 0.898 | 0:00:35.27 |\n",
            "| Validation | 0.824 | 0.904 |            |\n",
            "+------------+-------+-------+------------+\n",
            "EPOCH: 18/20 not saving...\n",
            "+------------+-------+-------+------------+\n",
            "| CATEGORY   |   MSE |  RMSE |        ETA |\n",
            "+------------+-------+-------+------------+\n",
            "| Training   | 0.814 | 0.898 | 0:00:33.23 |\n",
            "| Validation | 0.825 | 0.904 |            |\n",
            "+------------+-------+-------+------------+\n",
            "EPOCH: 19/20 not saving...\n",
            "+------------+-------+-------+------------+\n",
            "| CATEGORY   |   MSE |  RMSE |        ETA |\n",
            "+------------+-------+-------+------------+\n",
            "| Training   | 0.814 | 0.898 | 0:00:34.13 |\n",
            "| Validation | 0.825 | 0.904 |            |\n",
            "+------------+-------+-------+------------+\n",
            "EPOCH: 20/20 not saving...\n",
            "+------------+-------+-------+------------+\n",
            "| CATEGORY   |   MSE |  RMSE |        ETA |\n",
            "+------------+-------+-------+------------+\n",
            "| Training   | 0.814 | 0.898 | 0:00:33.59 |\n",
            "| Validation | 0.828 | 0.906 |            |\n",
            "+------------+-------+-------+------------+\n"
          ]
        }
      ]
    },
    {
      "cell_type": "markdown",
      "source": [
        "Let's visualize the training metrics."
      ],
      "metadata": {
        "id": "3V9K_KM2FIT8"
      }
    },
    {
      "cell_type": "code",
      "source": [
        "epochs = np.arange(1, N_EPOCHS + 1)\n",
        "plt.plot(epochs, train_mses, label=\"train_mse\")\n",
        "plt.plot(epochs, val_mses, label=\"val_mse\")\n",
        "\n",
        "plt.plot(epochs, train_rmses, label=\"train_rmse\")\n",
        "plt.plot(epochs, val_rmses, label=\"val_rmse\")\n",
        "\n",
        "plt.title(\"MODEL TRAINING METRICS\", color=\"k\", fontsize=10)\n",
        "plt.legend()\n",
        "plt.xlabel(\"epochs\", fontsize=10)\n",
        "plt.show()"
      ],
      "metadata": {
        "colab": {
          "base_uri": "https://localhost:8080/",
          "height": 469
        },
        "id": "c1AP-RQ0FLO3",
        "outputId": "21267963-c731-4fd4-bc9a-bb65775d149e"
      },
      "execution_count": 27,
      "outputs": [
        {
          "output_type": "display_data",
          "data": {
            "text/plain": [
              "<Figure size 640x480 with 1 Axes>"
            ],
            "image/png": "[encoded data removed]"
          },
          "metadata": {}
        }
      ]
    },
    {
      "cell_type": "markdown",
      "source": [
        "Next we are going to load the best model."
      ],
      "metadata": {
        "id": "7dA-73llZ_3F"
      }
    },
    {
      "cell_type": "code",
      "source": [
        "model.load_state_dict(torch.load(MODEL_NAME))"
      ],
      "metadata": {
        "colab": {
          "base_uri": "https://localhost:8080/"
        },
        "id": "zYpps_49aEvc",
        "outputId": "4f236e81-2a4b-47b9-bc42-134fd9bb702e"
      },
      "execution_count": 30,
      "outputs": [
        {
          "output_type": "execute_result",
          "data": {
            "text/plain": [
              "<All keys matched successfully>"
            ]
          },
          "metadata": {},
          "execution_count": 30
        }
      ]
    },
    {
      "cell_type": "markdown",
      "source": [
        "Next we are going to make predict the `rating` in which the user that has an id of `3704` will rate the movie that has an id `1196`."
      ],
      "metadata": {
        "id": "Ot10w11vCCJM"
      }
    },
    {
      "cell_type": "code",
      "source": [
        "def preprocess(user:int, movie:int):\n",
        "  user = torch.tensor(label_user.transform([user]), dtype=torch.long)\n",
        "  movie = torch.tensor(label_movie.transform([movie]), dtype=torch.long)\n",
        "  return user, movie"
      ],
      "metadata": {
        "id": "CIi7lJpm-oHf"
      },
      "execution_count": 31,
      "outputs": []
    },
    {
      "cell_type": "markdown",
      "source": [
        "Next we will create a `predict_rating` function which will predict the user ratting on the specific movie."
      ],
      "metadata": {
        "id": "JZSTrEiSXXgu"
      }
    },
    {
      "cell_type": "code",
      "source": [
        "def predict_rating(model, device, user:int, movie:int):\n",
        "  m, u = movie, user\n",
        "  user, movie = preprocess(user, movie)\n",
        "  model = model.eval()\n",
        "  with torch.no_grad():\n",
        "    predictions = model(user.to(device), movie.to(device)).squeeze(0)\n",
        "    rating = predictions.item()\n",
        "  return {\n",
        "      'movie': m,\n",
        "      'user': u,\n",
        "      'rating': float(rating)\n",
        "  }\n",
        "predict_rating(model, device, 3704, 1196 )"
      ],
      "metadata": {
        "colab": {
          "base_uri": "https://localhost:8080/"
        },
        "id": "8rfcurm3DZea",
        "outputId": "087da6e2-3738-490e-eb38-21477462712d"
      },
      "execution_count": 32,
      "outputs": [
        {
          "output_type": "execute_result",
          "data": {
            "text/plain": [
              "{'movie': 1196, 'user': 3704, 'rating': 4.831114768981934}"
            ]
          },
          "metadata": {},
          "execution_count": 32
        }
      ]
    },
    {
      "cell_type": "code",
      "source": [],
      "metadata": {
        "id": "-jQu1DIRD7nO"
      },
      "execution_count": 29,
      "outputs": []
    }
  ]
}